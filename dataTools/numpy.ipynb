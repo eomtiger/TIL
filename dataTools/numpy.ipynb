{
 "cells": [
  {
   "cell_type": "code",
   "execution_count": 1,
   "id": "835096fa",
   "metadata": {},
   "outputs": [],
   "source": [
    "pv = 100\n",
    "f = 1.03\n",
    "n = 2"
   ]
  },
  {
   "cell_type": "code",
   "execution_count": 2,
   "id": "12a9883b",
   "metadata": {},
   "outputs": [
    {
     "data": {
      "text/plain": [
       "106.08999999999999"
      ]
     },
     "execution_count": 2,
     "metadata": {},
     "output_type": "execute_result"
    }
   ],
   "source": [
    "fv = pv * f**n\n",
    "fv"
   ]
  },
  {
   "cell_type": "code",
   "execution_count": 3,
   "id": "398f0d23",
   "metadata": {},
   "outputs": [],
   "source": [
    "import math"
   ]
  },
  {
   "cell_type": "code",
   "execution_count": 4,
   "id": "99cdcf80",
   "metadata": {},
   "outputs": [
    {
     "data": {
      "text/plain": [
       "106.08999999999999"
      ]
     },
     "execution_count": 4,
     "metadata": {},
     "output_type": "execute_result"
    }
   ],
   "source": [
    "fv = pv*math.pow(f,n)\n",
    "fv"
   ]
  },
  {
   "cell_type": "code",
   "execution_count": 5,
   "id": "92c9bed7",
   "metadata": {},
   "outputs": [
    {
     "data": {
      "text/plain": [
       "0.030000000000000027"
      ]
     },
     "execution_count": 5,
     "metadata": {},
     "output_type": "execute_result"
    }
   ],
   "source": [
    "math.sqrt(fv/pv) - 1"
   ]
  },
  {
   "cell_type": "code",
   "execution_count": 6,
   "id": "29a95606",
   "metadata": {},
   "outputs": [
    {
     "data": {
      "text/plain": [
       "0.1411200080598672"
      ]
     },
     "execution_count": 6,
     "metadata": {},
     "output_type": "execute_result"
    }
   ],
   "source": [
    "math.sin(3)"
   ]
  },
  {
   "cell_type": "code",
   "execution_count": 7,
   "id": "3335b3d6",
   "metadata": {},
   "outputs": [
    {
     "data": {
      "text/plain": [
       "2.718281828459045"
      ]
     },
     "execution_count": 7,
     "metadata": {},
     "output_type": "execute_result"
    }
   ],
   "source": [
    "math.e"
   ]
  },
  {
   "cell_type": "code",
   "execution_count": 8,
   "id": "b805ecb7",
   "metadata": {},
   "outputs": [
    {
     "data": {
      "text/plain": [
       "3.141592653589793"
      ]
     },
     "execution_count": 8,
     "metadata": {},
     "output_type": "execute_result"
    }
   ],
   "source": [
    "math.pi"
   ]
  },
  {
   "cell_type": "code",
   "execution_count": 10,
   "id": "cac1fea1",
   "metadata": {},
   "outputs": [],
   "source": [
    "import math as ma"
   ]
  },
  {
   "cell_type": "code",
   "execution_count": 11,
   "id": "3946efcd",
   "metadata": {},
   "outputs": [
    {
     "data": {
      "text/plain": [
       "3.141592653589793"
      ]
     },
     "execution_count": 11,
     "metadata": {},
     "output_type": "execute_result"
    }
   ],
   "source": [
    "ma.pi"
   ]
  },
  {
   "cell_type": "code",
   "execution_count": 12,
   "id": "4c4cfa3c",
   "metadata": {},
   "outputs": [],
   "source": [
    "from math import sqrt as sq"
   ]
  },
  {
   "cell_type": "code",
   "execution_count": 13,
   "id": "de92c63e",
   "metadata": {},
   "outputs": [
    {
     "data": {
      "text/plain": [
       "0.030000000000000027"
      ]
     },
     "execution_count": 13,
     "metadata": {},
     "output_type": "execute_result"
    }
   ],
   "source": [
    "sq(fv/pv) - 1"
   ]
  },
  {
   "cell_type": "markdown",
   "id": "fc32f202",
   "metadata": {},
   "source": [
    "# the numpy package"
   ]
  },
  {
   "cell_type": "code",
   "execution_count": 14,
   "id": "a09854da",
   "metadata": {},
   "outputs": [],
   "source": [
    "import numpy as np"
   ]
  },
  {
   "cell_type": "code",
   "execution_count": 15,
   "id": "02c2f4ca",
   "metadata": {},
   "outputs": [
    {
     "data": {
      "text/plain": [
       "1.03"
      ]
     },
     "execution_count": 15,
     "metadata": {},
     "output_type": "execute_result"
    }
   ],
   "source": [
    "np.sqrt(fv/pv)"
   ]
  },
  {
   "cell_type": "code",
   "execution_count": 16,
   "id": "4410ed58",
   "metadata": {},
   "outputs": [
    {
     "data": {
      "text/plain": [
       "106.08999999999999"
      ]
     },
     "execution_count": 16,
     "metadata": {},
     "output_type": "execute_result"
    }
   ],
   "source": [
    "pv * np.power(f,n)"
   ]
  },
  {
   "cell_type": "markdown",
   "id": "fd4c36cf",
   "metadata": {},
   "source": [
    "# Numpy arrays"
   ]
  },
  {
   "cell_type": "code",
   "execution_count": 17,
   "id": "574d9d61",
   "metadata": {},
   "outputs": [],
   "source": [
    "import numpy as np"
   ]
  },
  {
   "cell_type": "code",
   "execution_count": 18,
   "id": "65ed7237",
   "metadata": {},
   "outputs": [
    {
     "data": {
      "text/plain": [
       "[50, 100, 120, 150, 200, 300]"
      ]
     },
     "execution_count": 18,
     "metadata": {},
     "output_type": "execute_result"
    }
   ],
   "source": [
    "cf = [50, 100, 120, 150, 200, 300]\n",
    "cf"
   ]
  },
  {
   "cell_type": "code",
   "execution_count": 19,
   "id": "df680d22",
   "metadata": {},
   "outputs": [
    {
     "data": {
      "text/plain": [
       "array([ 50, 100, 120, 150, 200, 300])"
      ]
     },
     "execution_count": 19,
     "metadata": {},
     "output_type": "execute_result"
    }
   ],
   "source": [
    "cf_a = np.array(cf)\n",
    "cf_a"
   ]
  },
  {
   "cell_type": "code",
   "execution_count": 20,
   "id": "66dc357b",
   "metadata": {},
   "outputs": [
    {
     "data": {
      "text/plain": [
       "numpy.ndarray"
      ]
     },
     "execution_count": 20,
     "metadata": {},
     "output_type": "execute_result"
    }
   ],
   "source": [
    "type(cf_a)"
   ]
  },
  {
   "cell_type": "code",
   "execution_count": 21,
   "id": "0ecca815",
   "metadata": {},
   "outputs": [
    {
     "data": {
      "text/plain": [
       "[30, 80, 100, 130, 180, 280]"
      ]
     },
     "execution_count": 21,
     "metadata": {},
     "output_type": "execute_result"
    }
   ],
   "source": [
    "cf_new = []\n",
    "for i in cf:\n",
    "    cf_new.append(i-20)\n",
    "cf_new"
   ]
  },
  {
   "cell_type": "code",
   "execution_count": 22,
   "id": "996c69e4",
   "metadata": {},
   "outputs": [
    {
     "data": {
      "text/plain": [
       "array([ 30,  80, 100, 130, 180, 280])"
      ]
     },
     "execution_count": 22,
     "metadata": {},
     "output_type": "execute_result"
    }
   ],
   "source": [
    "cf_a-20"
   ]
  },
  {
   "cell_type": "code",
   "execution_count": 23,
   "id": "d7b47e58",
   "metadata": {},
   "outputs": [
    {
     "data": {
      "text/plain": [
       "array([ 50, 100, 120, 150, 200, 300])"
      ]
     },
     "execution_count": 23,
     "metadata": {},
     "output_type": "execute_result"
    }
   ],
   "source": [
    "cf_a"
   ]
  },
  {
   "cell_type": "code",
   "execution_count": 24,
   "id": "400f3daf",
   "metadata": {},
   "outputs": [
    {
     "data": {
      "text/plain": [
       "array([ 10,  20, -10,  30,  10,  -5])"
      ]
     },
     "execution_count": 24,
     "metadata": {},
     "output_type": "execute_result"
    }
   ],
   "source": [
    "add_cf = np.array([10,20,-10,30,10,-5])\n",
    "add_cf"
   ]
  },
  {
   "cell_type": "code",
   "execution_count": 25,
   "id": "2311ea28",
   "metadata": {},
   "outputs": [
    {
     "data": {
      "text/plain": [
       "array([ 60, 120, 110, 180, 210, 295])"
      ]
     },
     "execution_count": 25,
     "metadata": {},
     "output_type": "execute_result"
    }
   ],
   "source": [
    "cf_a + add_cf"
   ]
  },
  {
   "cell_type": "code",
   "execution_count": 26,
   "id": "48673344",
   "metadata": {},
   "outputs": [
    {
     "data": {
      "text/plain": [
       "dtype('int32')"
      ]
     },
     "execution_count": 26,
     "metadata": {},
     "output_type": "execute_result"
    }
   ],
   "source": [
    "cf_a.dtype"
   ]
  },
  {
   "cell_type": "code",
   "execution_count": 27,
   "id": "3b43921b",
   "metadata": {},
   "outputs": [
    {
     "data": {
      "text/plain": [
       "[100, 20.5, 30, 10.7, True, 'Apple']"
      ]
     },
     "execution_count": 27,
     "metadata": {},
     "output_type": "execute_result"
    }
   ],
   "source": [
    "l = [100, 20.5, 30, 10.7, True, \"Apple\"]\n",
    "l"
   ]
  },
  {
   "cell_type": "code",
   "execution_count": 28,
   "id": "15426dd3",
   "metadata": {},
   "outputs": [
    {
     "data": {
      "text/plain": [
       "array(['100', '20.5', '30', '10.7', 'True', 'Apple'], dtype='<U32')"
      ]
     },
     "execution_count": 28,
     "metadata": {},
     "output_type": "execute_result"
    }
   ],
   "source": [
    "a = np.array(l)\n",
    "a"
   ]
  },
  {
   "cell_type": "code",
   "execution_count": 29,
   "id": "35a2eece",
   "metadata": {},
   "outputs": [
    {
     "name": "stdout",
     "output_type": "stream",
     "text": [
      "<class 'numpy.str_'>\n",
      "<class 'numpy.str_'>\n",
      "<class 'numpy.str_'>\n",
      "<class 'numpy.str_'>\n",
      "<class 'numpy.str_'>\n",
      "<class 'numpy.str_'>\n"
     ]
    }
   ],
   "source": [
    "for element in a:\n",
    "    print(type(element))"
   ]
  },
  {
   "cell_type": "markdown",
   "id": "42ee5571",
   "metadata": {},
   "source": [
    "# Indexing and slicing numpy arrays"
   ]
  },
  {
   "cell_type": "code",
   "execution_count": 30,
   "id": "6d1ef694",
   "metadata": {},
   "outputs": [],
   "source": [
    "import numpy as np"
   ]
  },
  {
   "cell_type": "code",
   "execution_count": 31,
   "id": "557f623d",
   "metadata": {},
   "outputs": [],
   "source": [
    "cf = np.array([50, 100, 120, 150, 200, 300])"
   ]
  },
  {
   "cell_type": "code",
   "execution_count": 32,
   "id": "cab7bea5",
   "metadata": {},
   "outputs": [
    {
     "data": {
      "text/plain": [
       "50"
      ]
     },
     "execution_count": 32,
     "metadata": {},
     "output_type": "execute_result"
    }
   ],
   "source": [
    "cf[0]"
   ]
  },
  {
   "cell_type": "code",
   "execution_count": 33,
   "id": "485e67ce",
   "metadata": {},
   "outputs": [
    {
     "data": {
      "text/plain": [
       "array([120, 150])"
      ]
     },
     "execution_count": 33,
     "metadata": {},
     "output_type": "execute_result"
    }
   ],
   "source": [
    "cf[2:4]"
   ]
  },
  {
   "cell_type": "code",
   "execution_count": 35,
   "id": "a3690472",
   "metadata": {},
   "outputs": [
    {
     "data": {
      "text/plain": [
       "array([ 50, 100, 120])"
      ]
     },
     "execution_count": 35,
     "metadata": {},
     "output_type": "execute_result"
    }
   ],
   "source": [
    "cf[:3]"
   ]
  },
  {
   "cell_type": "code",
   "execution_count": 36,
   "id": "78d3f086",
   "metadata": {},
   "outputs": [
    {
     "data": {
      "text/plain": [
       "array([100, 150])"
      ]
     },
     "execution_count": 36,
     "metadata": {},
     "output_type": "execute_result"
    }
   ],
   "source": [
    "cf[1:5:2]"
   ]
  },
  {
   "cell_type": "code",
   "execution_count": 37,
   "id": "9632c6b5",
   "metadata": {},
   "outputs": [
    {
     "data": {
      "text/plain": [
       "array([300, 200, 150, 120, 100,  50])"
      ]
     },
     "execution_count": 37,
     "metadata": {},
     "output_type": "execute_result"
    }
   ],
   "source": [
    "cf[::-1]"
   ]
  },
  {
   "cell_type": "markdown",
   "id": "cfc30200",
   "metadata": {},
   "source": [
    "# Vectorized operations with numpy"
   ]
  },
  {
   "cell_type": "code",
   "execution_count": 38,
   "id": "19140b04",
   "metadata": {},
   "outputs": [],
   "source": [
    "import numpy as np"
   ]
  },
  {
   "cell_type": "code",
   "execution_count": 39,
   "id": "a512f9be",
   "metadata": {},
   "outputs": [
    {
     "data": {
      "text/plain": [
       "array([ 50, 100, 120, 150, 200, 300])"
      ]
     },
     "execution_count": 39,
     "metadata": {},
     "output_type": "execute_result"
    }
   ],
   "source": [
    "cf = np.array([50, 100, 120, 150, 200, 300])\n",
    "cf"
   ]
  },
  {
   "cell_type": "code",
   "execution_count": 40,
   "id": "746ab493",
   "metadata": {},
   "outputs": [
    {
     "data": {
      "text/plain": [
       "array([ 55., 110., 132., 165., 220., 330.])"
      ]
     },
     "execution_count": 40,
     "metadata": {},
     "output_type": "execute_result"
    }
   ],
   "source": [
    "cf*1.1"
   ]
  },
  {
   "cell_type": "code",
   "execution_count": 41,
   "id": "b54ae71b",
   "metadata": {},
   "outputs": [
    {
     "data": {
      "text/plain": [
       "array([ 70, 120, 140, 170, 220, 320])"
      ]
     },
     "execution_count": 41,
     "metadata": {},
     "output_type": "execute_result"
    }
   ],
   "source": [
    "cf+20"
   ]
  },
  {
   "cell_type": "code",
   "execution_count": 43,
   "id": "11264402",
   "metadata": {},
   "outputs": [
    {
     "data": {
      "text/plain": [
       "array([ 10,  20,   5, -10,  20,  10])"
      ]
     },
     "execution_count": 43,
     "metadata": {},
     "output_type": "execute_result"
    }
   ],
   "source": [
    "cf_add = np.array([10, 20, 5, -10, 20, 10])\n",
    "cf_add"
   ]
  },
  {
   "cell_type": "code",
   "execution_count": 44,
   "id": "3e4b210b",
   "metadata": {},
   "outputs": [
    {
     "data": {
      "text/plain": [
       "array([ 60, 120, 125, 140, 220, 310])"
      ]
     },
     "execution_count": 44,
     "metadata": {},
     "output_type": "execute_result"
    }
   ],
   "source": [
    "cf + cf_add"
   ]
  },
  {
   "cell_type": "code",
   "execution_count": 45,
   "id": "6773803a",
   "metadata": {},
   "outputs": [],
   "source": [
    "cf = np.array([-200, 20, 50, 70, 100, 50])\n",
    "r = 0.06\n",
    "f = 1 + r"
   ]
  },
  {
   "cell_type": "code",
   "execution_count": 46,
   "id": "cf240391",
   "metadata": {},
   "outputs": [],
   "source": [
    "n = np.array([0,1,2,3,4,5])"
   ]
  },
  {
   "cell_type": "code",
   "execution_count": 47,
   "id": "278e2298",
   "metadata": {},
   "outputs": [
    {
     "data": {
      "text/plain": [
       "array([-200.        ,   18.86792453,   44.499822  ,   58.77334981,\n",
       "         79.20936632,   37.36290864])"
      ]
     },
     "execution_count": 47,
     "metadata": {},
     "output_type": "execute_result"
    }
   ],
   "source": [
    "cf / f**n"
   ]
  },
  {
   "cell_type": "code",
   "execution_count": 49,
   "id": "cfbf4f03",
   "metadata": {},
   "outputs": [
    {
     "data": {
      "text/plain": [
       "array([-200.        ,   18.86792453,   44.499822  ,   58.77334981,\n",
       "         79.20936632,   37.36290864])"
      ]
     },
     "execution_count": 49,
     "metadata": {},
     "output_type": "execute_result"
    }
   ],
   "source": [
    "pv_array = cf / f**n\n",
    "pv_array"
   ]
  },
  {
   "cell_type": "code",
   "execution_count": 50,
   "id": "706f3a77",
   "metadata": {},
   "outputs": [
    {
     "data": {
      "text/plain": [
       "38.71337130837991"
      ]
     },
     "execution_count": 50,
     "metadata": {},
     "output_type": "execute_result"
    }
   ],
   "source": [
    "NPV = pv_array.sum()\n",
    "NPV"
   ]
  },
  {
   "cell_type": "code",
   "execution_count": 53,
   "id": "1f49723d",
   "metadata": {},
   "outputs": [
    {
     "name": "stdout",
     "output_type": "stream",
     "text": [
      "38.71337130837991\n"
     ]
    }
   ],
   "source": [
    "NPV = 0\n",
    "for i in range(len(cf)):\n",
    "    NPV += cf[i]/f**i\n",
    "print(NPV)"
   ]
  },
  {
   "cell_type": "markdown",
   "id": "f5d70ab7",
   "metadata": {},
   "source": [
    "# Changing Elements in Numpy Arrays & Mutability"
   ]
  },
  {
   "cell_type": "code",
   "execution_count": 54,
   "id": "6015e93f",
   "metadata": {},
   "outputs": [],
   "source": [
    "import numpy as np"
   ]
  },
  {
   "cell_type": "code",
   "execution_count": 55,
   "id": "4a09d716",
   "metadata": {},
   "outputs": [],
   "source": [
    "cf = np.array([100, 10,20,50,30,25])"
   ]
  },
  {
   "cell_type": "code",
   "execution_count": 56,
   "id": "2468ff65",
   "metadata": {},
   "outputs": [],
   "source": [
    "cf[0] = 95"
   ]
  },
  {
   "cell_type": "code",
   "execution_count": 57,
   "id": "b07c54b5",
   "metadata": {},
   "outputs": [
    {
     "data": {
      "text/plain": [
       "array([95, 10, 20, 50, 30, 25])"
      ]
     },
     "execution_count": 57,
     "metadata": {},
     "output_type": "execute_result"
    }
   ],
   "source": [
    "cf"
   ]
  },
  {
   "cell_type": "code",
   "execution_count": 58,
   "id": "0a5f4434",
   "metadata": {},
   "outputs": [
    {
     "data": {
      "text/plain": [
       "array([10, 20, 50, 30, 25])"
      ]
     },
     "execution_count": 58,
     "metadata": {},
     "output_type": "execute_result"
    }
   ],
   "source": [
    "cf[1:]"
   ]
  },
  {
   "cell_type": "code",
   "execution_count": 59,
   "id": "f1e01b62",
   "metadata": {},
   "outputs": [
    {
     "data": {
      "text/plain": [
       "array([95, 10, 20, 50, 30, 25])"
      ]
     },
     "execution_count": 59,
     "metadata": {},
     "output_type": "execute_result"
    }
   ],
   "source": [
    "cf"
   ]
  },
  {
   "cell_type": "code",
   "execution_count": 60,
   "id": "46b8be14",
   "metadata": {},
   "outputs": [],
   "source": [
    "cf[1:] = 45"
   ]
  },
  {
   "cell_type": "code",
   "execution_count": 61,
   "id": "69324009",
   "metadata": {},
   "outputs": [
    {
     "data": {
      "text/plain": [
       "array([95, 45, 45, 45, 45, 45])"
      ]
     },
     "execution_count": 61,
     "metadata": {},
     "output_type": "execute_result"
    }
   ],
   "source": [
    "cf"
   ]
  },
  {
   "cell_type": "code",
   "execution_count": 62,
   "id": "00dcf164",
   "metadata": {},
   "outputs": [
    {
     "data": {
      "text/plain": [
       "array([115,  65,  65,  65,  65,  65])"
      ]
     },
     "execution_count": 62,
     "metadata": {},
     "output_type": "execute_result"
    }
   ],
   "source": [
    "cf+20"
   ]
  },
  {
   "cell_type": "code",
   "execution_count": 63,
   "id": "d1b41bca",
   "metadata": {},
   "outputs": [
    {
     "data": {
      "text/plain": [
       "array([95, 45, 45, 45, 45, 45])"
      ]
     },
     "execution_count": 63,
     "metadata": {},
     "output_type": "execute_result"
    }
   ],
   "source": [
    "cf"
   ]
  },
  {
   "cell_type": "code",
   "execution_count": 64,
   "id": "fbbc1ac3",
   "metadata": {},
   "outputs": [],
   "source": [
    "cf += 20"
   ]
  },
  {
   "cell_type": "code",
   "execution_count": 65,
   "id": "a69b34fb",
   "metadata": {},
   "outputs": [
    {
     "data": {
      "text/plain": [
       "array([115,  65,  65,  65,  65,  65])"
      ]
     },
     "execution_count": 65,
     "metadata": {},
     "output_type": "execute_result"
    }
   ],
   "source": [
    "cf"
   ]
  },
  {
   "cell_type": "code",
   "execution_count": 66,
   "id": "da8d13fb",
   "metadata": {},
   "outputs": [
    {
     "data": {
      "text/plain": [
       "array([100,  10,  20,  50,  30,  25])"
      ]
     },
     "execution_count": 66,
     "metadata": {},
     "output_type": "execute_result"
    }
   ],
   "source": [
    "cf1 = np.array([100, 10, 20, 50, 30, 25])\n",
    "cf1"
   ]
  },
  {
   "cell_type": "code",
   "execution_count": 67,
   "id": "7d958764",
   "metadata": {},
   "outputs": [],
   "source": [
    "cf2 = cf1[:]"
   ]
  },
  {
   "cell_type": "code",
   "execution_count": 68,
   "id": "630bf1b9",
   "metadata": {},
   "outputs": [
    {
     "data": {
      "text/plain": [
       "array([100,  10,  20,  50,  30,  25])"
      ]
     },
     "execution_count": 68,
     "metadata": {},
     "output_type": "execute_result"
    }
   ],
   "source": [
    "cf2"
   ]
  },
  {
   "cell_type": "code",
   "execution_count": 70,
   "id": "0a527854",
   "metadata": {},
   "outputs": [
    {
     "data": {
      "text/plain": [
       "array([90, 10, 20, 50, 30, 25])"
      ]
     },
     "execution_count": 70,
     "metadata": {},
     "output_type": "execute_result"
    }
   ],
   "source": [
    "cf1[0] = 90\n",
    "cf1"
   ]
  },
  {
   "cell_type": "code",
   "execution_count": 71,
   "id": "ee98b6bb",
   "metadata": {},
   "outputs": [
    {
     "data": {
      "text/plain": [
       "array([90, 10, 20, 50, 30, 25])"
      ]
     },
     "execution_count": 71,
     "metadata": {},
     "output_type": "execute_result"
    }
   ],
   "source": [
    "cf2"
   ]
  },
  {
   "cell_type": "code",
   "execution_count": 72,
   "id": "c1d334ea",
   "metadata": {},
   "outputs": [
    {
     "data": {
      "text/plain": [
       "[1, 2, 3]"
      ]
     },
     "execution_count": 72,
     "metadata": {},
     "output_type": "execute_result"
    }
   ],
   "source": [
    "a = [1,2,3]\n",
    "b = a[:]\n",
    "b"
   ]
  },
  {
   "cell_type": "code",
   "execution_count": 73,
   "id": "ebd124d1",
   "metadata": {},
   "outputs": [
    {
     "data": {
      "text/plain": [
       "[2, 2, 3]"
      ]
     },
     "execution_count": 73,
     "metadata": {},
     "output_type": "execute_result"
    }
   ],
   "source": [
    "a[0] = 2\n",
    "a"
   ]
  },
  {
   "cell_type": "code",
   "execution_count": 74,
   "id": "554aa372",
   "metadata": {},
   "outputs": [
    {
     "data": {
      "text/plain": [
       "[1, 2, 3]"
      ]
     },
     "execution_count": 74,
     "metadata": {},
     "output_type": "execute_result"
    }
   ],
   "source": [
    "b"
   ]
  },
  {
   "cell_type": "code",
   "execution_count": 75,
   "id": "307212d6",
   "metadata": {},
   "outputs": [
    {
     "data": {
      "text/plain": [
       "array([1, 2, 3, 4, 5])"
      ]
     },
     "execution_count": 75,
     "metadata": {},
     "output_type": "execute_result"
    }
   ],
   "source": [
    "cf1 = np.array([1,2,3,4,5])\n",
    "cf1"
   ]
  },
  {
   "cell_type": "code",
   "execution_count": 77,
   "id": "d6bc8cbd",
   "metadata": {},
   "outputs": [],
   "source": [
    "cf2 = cf1.copy()"
   ]
  },
  {
   "cell_type": "code",
   "execution_count": 78,
   "id": "e8e58b03",
   "metadata": {},
   "outputs": [
    {
     "data": {
      "text/plain": [
       "array([1, 2, 3, 4, 5])"
      ]
     },
     "execution_count": 78,
     "metadata": {},
     "output_type": "execute_result"
    }
   ],
   "source": [
    "cf2"
   ]
  },
  {
   "cell_type": "code",
   "execution_count": 79,
   "id": "f1c9b407",
   "metadata": {},
   "outputs": [
    {
     "data": {
      "text/plain": [
       "array([2, 2, 3, 4, 5])"
      ]
     },
     "execution_count": 79,
     "metadata": {},
     "output_type": "execute_result"
    }
   ],
   "source": [
    "cf1[0] = 2\n",
    "cf1"
   ]
  },
  {
   "cell_type": "code",
   "execution_count": 80,
   "id": "182bbb28",
   "metadata": {},
   "outputs": [
    {
     "data": {
      "text/plain": [
       "array([1, 2, 3, 4, 5])"
      ]
     },
     "execution_count": 80,
     "metadata": {},
     "output_type": "execute_result"
    }
   ],
   "source": [
    "cf2"
   ]
  },
  {
   "cell_type": "markdown",
   "id": "c2adb911",
   "metadata": {},
   "source": [
    "# view vs copy"
   ]
  },
  {
   "cell_type": "code",
   "execution_count": 1,
   "id": "6d8808fb",
   "metadata": {},
   "outputs": [],
   "source": [
    "import numpy as np"
   ]
  },
  {
   "cell_type": "code",
   "execution_count": 2,
   "id": "0cf90dfe",
   "metadata": {},
   "outputs": [
    {
     "data": {
      "text/plain": [
       "array([0, 1, 2, 3, 4, 5])"
      ]
     },
     "execution_count": 2,
     "metadata": {},
     "output_type": "execute_result"
    }
   ],
   "source": [
    "cf = np.array([0,1,2,3,4,5])\n",
    "cf"
   ]
  },
  {
   "cell_type": "code",
   "execution_count": 4,
   "id": "df57240a",
   "metadata": {},
   "outputs": [
    {
     "data": {
      "text/plain": [
       "array([3, 4, 5])"
      ]
     },
     "execution_count": 4,
     "metadata": {},
     "output_type": "execute_result"
    }
   ],
   "source": [
    "last_3 = cf[-3:]\n",
    "last_3"
   ]
  },
  {
   "cell_type": "code",
   "execution_count": 5,
   "id": "7b553400",
   "metadata": {},
   "outputs": [],
   "source": [
    "last_3[0] = 5"
   ]
  },
  {
   "cell_type": "code",
   "execution_count": 6,
   "id": "ddefc79f",
   "metadata": {},
   "outputs": [
    {
     "data": {
      "text/plain": [
       "array([5, 4, 5])"
      ]
     },
     "execution_count": 6,
     "metadata": {},
     "output_type": "execute_result"
    }
   ],
   "source": [
    "last_3"
   ]
  },
  {
   "cell_type": "code",
   "execution_count": 7,
   "id": "d7729a7b",
   "metadata": {},
   "outputs": [
    {
     "data": {
      "text/plain": [
       "array([0, 1, 2, 5, 4, 5])"
      ]
     },
     "execution_count": 7,
     "metadata": {},
     "output_type": "execute_result"
    }
   ],
   "source": [
    "cf"
   ]
  },
  {
   "cell_type": "markdown",
   "id": "31b2d6b7",
   "metadata": {},
   "source": [
    "# Numpy array methods and attributes"
   ]
  },
  {
   "cell_type": "code",
   "execution_count": 1,
   "id": "3e98ef71",
   "metadata": {},
   "outputs": [],
   "source": [
    "import numpy as np"
   ]
  },
  {
   "cell_type": "code",
   "execution_count": 2,
   "id": "5f5a1669",
   "metadata": {},
   "outputs": [
    {
     "data": {
      "text/plain": [
       "array([1, 2, 3, 4, 5])"
      ]
     },
     "execution_count": 2,
     "metadata": {},
     "output_type": "execute_result"
    }
   ],
   "source": [
    "cf = np.array([1,2,3,4,5])\n",
    "cf"
   ]
  },
  {
   "cell_type": "code",
   "execution_count": 3,
   "id": "1935b54e",
   "metadata": {},
   "outputs": [
    {
     "data": {
      "text/plain": [
       "5"
      ]
     },
     "execution_count": 3,
     "metadata": {},
     "output_type": "execute_result"
    }
   ],
   "source": [
    "max(cf)"
   ]
  },
  {
   "cell_type": "code",
   "execution_count": 4,
   "id": "47829342",
   "metadata": {},
   "outputs": [
    {
     "data": {
      "text/plain": [
       "5"
      ]
     },
     "execution_count": 4,
     "metadata": {},
     "output_type": "execute_result"
    }
   ],
   "source": [
    "cf.max()"
   ]
  },
  {
   "cell_type": "code",
   "execution_count": 5,
   "id": "33f62d20",
   "metadata": {},
   "outputs": [
    {
     "data": {
      "text/plain": [
       "1"
      ]
     },
     "execution_count": 5,
     "metadata": {},
     "output_type": "execute_result"
    }
   ],
   "source": [
    "cf.min()"
   ]
  },
  {
   "cell_type": "code",
   "execution_count": 6,
   "id": "222df7af",
   "metadata": {},
   "outputs": [
    {
     "data": {
      "text/plain": [
       "4"
      ]
     },
     "execution_count": 6,
     "metadata": {},
     "output_type": "execute_result"
    }
   ],
   "source": [
    "cf.argmax()"
   ]
  },
  {
   "cell_type": "code",
   "execution_count": 7,
   "id": "3d304e4d",
   "metadata": {},
   "outputs": [
    {
     "data": {
      "text/plain": [
       "0"
      ]
     },
     "execution_count": 7,
     "metadata": {},
     "output_type": "execute_result"
    }
   ],
   "source": [
    "cf.argmin()"
   ]
  },
  {
   "cell_type": "code",
   "execution_count": 8,
   "id": "f25c06f1",
   "metadata": {},
   "outputs": [
    {
     "data": {
      "text/plain": [
       "15"
      ]
     },
     "execution_count": 8,
     "metadata": {},
     "output_type": "execute_result"
    }
   ],
   "source": [
    "cf.sum()"
   ]
  },
  {
   "cell_type": "code",
   "execution_count": 9,
   "id": "1f9976bf",
   "metadata": {},
   "outputs": [
    {
     "data": {
      "text/plain": [
       "array([ 1,  3,  6, 10, 15])"
      ]
     },
     "execution_count": 9,
     "metadata": {},
     "output_type": "execute_result"
    }
   ],
   "source": [
    "cf.cumsum()"
   ]
  },
  {
   "cell_type": "code",
   "execution_count": 10,
   "id": "bd4a9722",
   "metadata": {},
   "outputs": [
    {
     "data": {
      "text/plain": [
       "array([ 1,  3,  6, 10, 15])"
      ]
     },
     "execution_count": 10,
     "metadata": {},
     "output_type": "execute_result"
    }
   ],
   "source": [
    "array = cf.cumsum()\n",
    "array"
   ]
  },
  {
   "cell_type": "code",
   "execution_count": 11,
   "id": "89d047d8",
   "metadata": {},
   "outputs": [],
   "source": [
    "import matplotlib.pyplot as plt"
   ]
  },
  {
   "cell_type": "code",
   "execution_count": 12,
   "id": "af171ded",
   "metadata": {},
   "outputs": [
    {
     "data": {
      "text/plain": [
       "<function matplotlib.pyplot.show(close=None, block=None)>"
      ]
     },
     "execution_count": 12,
     "metadata": {},
     "output_type": "execute_result"
    },
    {
     "data": {
      "image/png": "[encoded data removed]",
      "text/plain": [
       "<Figure size 864x576 with 1 Axes>"
      ]
     },
     "metadata": {
      "needs_background": "light"
     },
     "output_type": "display_data"
    }
   ],
   "source": [
    "plt.figure(figsize = (12, 8))\n",
    "plt.plot(array)\n",
    "plt.show"
   ]
  },
  {
   "cell_type": "code",
   "execution_count": 13,
   "id": "ef7b2cb0",
   "metadata": {},
   "outputs": [],
   "source": [
    "cf.sort()"
   ]
  },
  {
   "cell_type": "code",
   "execution_count": 14,
   "id": "0c187897",
   "metadata": {},
   "outputs": [
    {
     "data": {
      "text/plain": [
       "array([1, 2, 3, 4, 5])"
      ]
     },
     "execution_count": 14,
     "metadata": {},
     "output_type": "execute_result"
    }
   ],
   "source": [
    "cf"
   ]
  },
  {
   "cell_type": "code",
   "execution_count": 16,
   "id": "cdf3069c",
   "metadata": {},
   "outputs": [
    {
     "data": {
      "text/plain": [
       "array([1.234, 2.234, 3.234, 4.234, 5.234])"
      ]
     },
     "execution_count": 16,
     "metadata": {},
     "output_type": "execute_result"
    }
   ],
   "source": [
    "cf = cf + 0.234\n",
    "cf"
   ]
  },
  {
   "cell_type": "code",
   "execution_count": 17,
   "id": "d1fe2f4a",
   "metadata": {},
   "outputs": [
    {
     "data": {
      "text/plain": [
       "array([1.23, 2.23, 3.23, 4.23, 5.23])"
      ]
     },
     "execution_count": 17,
     "metadata": {},
     "output_type": "execute_result"
    }
   ],
   "source": [
    "cf.round(2)"
   ]
  },
  {
   "cell_type": "code",
   "execution_count": 18,
   "id": "d544af05",
   "metadata": {},
   "outputs": [
    {
     "data": {
      "text/plain": [
       "5"
      ]
     },
     "execution_count": 18,
     "metadata": {},
     "output_type": "execute_result"
    }
   ],
   "source": [
    "cf.size"
   ]
  },
  {
   "cell_type": "code",
   "execution_count": 21,
   "id": "67cccd81",
   "metadata": {},
   "outputs": [
    {
     "data": {
      "text/plain": [
       "(5,)"
      ]
     },
     "execution_count": 21,
     "metadata": {},
     "output_type": "execute_result"
    }
   ],
   "source": [
    "cf.shape"
   ]
  },
  {
   "cell_type": "code",
   "execution_count": null,
   "id": "31638835",
   "metadata": {},
   "outputs": [],
   "source": []
  }
 ],
 "metadata": {
  "kernelspec": {
   "display_name": "Python 3 (ipykernel)",
   "language": "python",
   "name": "python3"
  },
  "language_info": {
   "codemirror_mode": {
    "name": "ipython",
    "version": 3
   },
   "file_extension": ".py",
   "mimetype": "text/x-python",
   "name": "python",
   "nbconvert_exporter": "python",
   "pygments_lexer": "ipython3",
   "version": "3.9.13"
  }
 },
 "nbformat": 4,
 "nbformat_minor": 5
}
